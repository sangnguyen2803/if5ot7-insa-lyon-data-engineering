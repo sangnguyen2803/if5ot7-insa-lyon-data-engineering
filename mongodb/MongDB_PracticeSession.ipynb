{
 "cells": [
  {
   "cell_type": "markdown",
   "metadata": {},
   "source": [
    "# Document-Based Stores (MongoDB)"
   ]
  },
  {
   "cell_type": "markdown",
   "metadata": {},
   "source": [
    "# Introduction:\n",
    "\n",
    "### MongoDB:\n",
    "   <a href=\"https://www.mongodb.com/\">MongoDB</a> is a general purpose, document-based, distributed database built for modern application developers and for the cloud era. MongoDB stores data in JSON-like documents, which makes the database very flexible and scalable. <br/>\n",
    "   \n",
    "<img src=\"https://infinapps.com/wp-content/uploads/2018/10/mongodb-logo.png\" width =\"125\" height=\"75\">\n"
   ]
  },
  {
   "cell_type": "markdown",
   "metadata": {},
   "source": [
    "### MongoDb Hieraracy: \n",
    "<img src=\"https://cdn.educba.com/academy/wp-content/uploads/2019/04/MongoDB-chart2.jpg\" width =\"400\" >"
   ]
  },
  {
   "cell_type": "markdown",
   "metadata": {},
   "source": [
    "### PyMongo python Driver\n",
    "\n",
    "- Python needs a MongoDB driver to access the MongoDB database.\n",
    "- <b>'Pymongo'</b> documentation: https://api.mongodb.com/python/current/tutorial.html \n",
    "- Install the 'pymongo' Python driver:\n",
    "```\n",
    "pip install pymongo\n",
    "```"
   ]
  },
  {
   "cell_type": "markdown",
   "metadata": {},
   "source": [
    "- The first thing that we need to do in order to establish a connection is import the MongoClient class."
   ]
  },
  {
   "cell_type": "code",
   "execution_count": 1,
   "metadata": {},
   "outputs": [],
   "source": [
    "from pymongo import MongoClient\n",
    "from random import randint\n",
    "from pprint import pprint\n",
    "\n",
    "import warnings\n",
    "warnings.filterwarnings('ignore')"
   ]
  },
  {
   "cell_type": "markdown",
   "metadata": {},
   "source": [
    "# First Steps with MongoDB, CRUD Operations"
   ]
  },
  {
   "cell_type": "markdown",
   "metadata": {},
   "source": [
    "## CREATE"
   ]
  },
  {
   "cell_type": "markdown",
   "metadata": {},
   "source": [
    "#### Creating a Database\n",
    "- Unlike SQL databases, databases and collections in MongoDB only have to be named to be created. \n",
    "\n",
    "- To create a database in MongoDB, start by creating a MongoClient object, then specify a connection URL with the correct ip address and the name of the database you want to create.\n",
    "- MongoDB will create the database if it does not exist, and make a connection to it.\n",
    " "
   ]
  },
  {
   "cell_type": "code",
   "execution_count": 2,
   "metadata": {},
   "outputs": [],
   "source": [
    "mongo = \"localhost\"\n",
    "\n",
    "# NOTE: if you are running this notebook in docker you need to \n",
    "# refer to the container name \"mongodb://mongo:27017/\"\n",
    "# mongo = \"mongo\"\n",
    "\n",
    "# we use the MongoClient to communicate with the running database instance.\n",
    "myclient = MongoClient(\n",
    "                    \"mongodb://\"+mongo+\":27017/\",  \n",
    "                    username='admin',\n",
    "                    password='admin') #Mongo URI format\n",
    "mydb = myclient[\"customer_db\"]\n",
    "# Or you can use the attribute style \n",
    "# mydb = myclient.customer_db"
   ]
  },
  {
   "cell_type": "markdown",
   "metadata": {},
   "source": [
    "- Note: you can also specify the host and/or port using:\n",
    "```python \n",
    "client = MongoClient('mongo', 27017)\n",
    "```"
   ]
  },
  {
   "cell_type": "markdown",
   "metadata": {},
   "source": [
    "<b style=\"color:red\"> Important Note</b>: In MongoDB, a database is not created until it gets content!"
   ]
  },
  {
   "cell_type": "markdown",
   "metadata": {},
   "source": [
    "###### You can check if a database exist by listing all databases in you system:\n",
    "- Note That: 'moviedb' DB is not created yet!!"
   ]
  },
  {
   "cell_type": "code",
   "execution_count": 3,
   "metadata": {},
   "outputs": [
    {
     "data": {
      "text/plain": [
       "['admin', 'config', 'customer_db', 'local']"
      ]
     },
     "execution_count": 3,
     "metadata": {},
     "output_type": "execute_result"
    }
   ],
   "source": [
    "myclient.list_database_names()"
   ]
  },
  {
   "cell_type": "markdown",
   "metadata": {},
   "source": [
    "#### Creating a Collection\n",
    "- To create a collection in MongoDB, use database object and specify the name of the collection you want to create.\n",
    "- MongoDB will create the collection if it does not exist."
   ]
  },
  {
   "cell_type": "code",
   "execution_count": 4,
   "metadata": {},
   "outputs": [],
   "source": [
    "customer_coll = mydb[\"customers\"]"
   ]
  },
  {
   "cell_type": "markdown",
   "metadata": {},
   "source": [
    "#### Check if the collection is created !"
   ]
  },
  {
   "cell_type": "code",
   "execution_count": 5,
   "metadata": {},
   "outputs": [
    {
     "data": {
      "text/plain": [
       "['customers']"
      ]
     },
     "execution_count": 5,
     "metadata": {},
     "output_type": "execute_result"
    }
   ],
   "source": [
    "mydb.list_collection_names()"
   ]
  },
  {
   "cell_type": "markdown",
   "metadata": {},
   "source": [
    "#### Check if the DB itself is created !"
   ]
  },
  {
   "cell_type": "code",
   "execution_count": 6,
   "metadata": {},
   "outputs": [
    {
     "data": {
      "text/plain": [
       "['admin', 'config', 'customer_db', 'local']"
      ]
     },
     "execution_count": 6,
     "metadata": {},
     "output_type": "execute_result"
    }
   ],
   "source": [
    "myclient.list_database_names()"
   ]
  },
  {
   "cell_type": "markdown",
   "metadata": {},
   "source": [
    "- This means that Mongo is following a <em>lazy</em> creation approach.\n",
    "    - That is the database and corresponding collection are actually only created when a document is inserted."
   ]
  },
  {
   "cell_type": "markdown",
   "metadata": {},
   "source": [
    "### Insert into the collection\n",
    "- To insert a single record, or more accurately a document as it is called in MongoDB, into a collection, we use the **insert_one()** method."
   ]
  },
  {
   "cell_type": "code",
   "execution_count": 7,
   "metadata": {},
   "outputs": [],
   "source": [
    "first_customer_doc = {\"name\": \"Jane\", \"age\": 25, \"gender\": \"female\"}\n",
    "first_customer = mydb.customers.insert_one(first_customer_doc)"
   ]
  },
  {
   "cell_type": "markdown",
   "metadata": {},
   "source": [
    "- Each document is allocated a unique identifier which can be accessed via the **inserted_id** attribute."
   ]
  },
  {
   "cell_type": "code",
   "execution_count": 8,
   "metadata": {},
   "outputs": [
    {
     "data": {
      "text/plain": [
       "ObjectId('68e761b74c46bffe50ebeb4c')"
      ]
     },
     "execution_count": 8,
     "metadata": {},
     "output_type": "execute_result"
    }
   ],
   "source": [
    "first_customer.inserted_id"
   ]
  },
  {
   "cell_type": "markdown",
   "metadata": {},
   "source": [
    "**Notes about Document_IDs:** \n",
    "- Although these identifiers look pretty random, there is actually a wel defined structure.\n",
    "    - The first 8 characters (4 bytes) are a timestamp\n",
    "    - followed by a 6 character machine identifier\n",
    "    - then a 4 character process identifier\n",
    "    - and finally a 6 character counter.\n",
    "    \n",
    "- <font color='red'> Note to consider</font>:\n",
    "    - Instead of creating the default _id(s) here, we can use the _id as our given IDs in the Dataset\n",
    "    - it's better to stick to the automatically created mongo IDs in order to scale well.\n",
    "    - However, sometimes you badly want to prettify the never-ending ObjectID value.\n",
    "        - Then, you should consider using an appropriate atomic increment strategy.\n",
    "   ```javascript  \n",
    "   db.coll.insert({_id:\"myUniqueValue\", a:1, b:1}) ```"
   ]
  },
  {
   "cell_type": "markdown",
   "metadata": {},
   "source": [
    "#### Insert Multiple Documents\n",
    "- To insert multiple documents into a collection in MongoDB, we use the <code>insert_many()</code> method.\n",
    "- The first parameter of the <code>insert_many()</code> method is a list containing dictionaries with the data you want to insert."
   ]
  },
  {
   "cell_type": "code",
   "execution_count": 9,
   "metadata": {},
   "outputs": [
    {
     "name": "stdout",
     "output_type": "stream",
     "text": [
      "[ObjectId('68e761b74c46bffe50ebeb4d'), ObjectId('68e761b74c46bffe50ebeb4e'), ObjectId('68e761b74c46bffe50ebeb4f')]\n",
      "{'_id': ObjectId('68e66a6d721a60d40e0243d2'), 'name': 'Jane', 'age': 25, 'gender': 'female'}\n",
      "{'_id': ObjectId('68e66ae2721a60d40e0243d3'), 'name': 'Karim', 'age': 14, 'gender': 'male'}\n",
      "{'_id': ObjectId('68e66ae2721a60d40e0243d4'), 'name': 'Kate', 'age': 75, 'gender': 'female'}\n",
      "{'_id': ObjectId('68e66ae2721a60d40e0243d5'), 'name': 'Riccardo', 'age': 34, 'gender': 'male', 'phone': 474612}\n",
      "{'_id': ObjectId('68e66b19721a60d40e0243d8'), 'name': 'Riccardo', 'age': 34, 'gender': 'male', 'phone': 474612}\n"
     ]
    }
   ],
   "source": [
    "customer_List = [\n",
    "  { \"name\": \"Karim\", \"age\":14, \"gender\":\"male\"},\n",
    "  { \"name\": \"Kate\",\"age\":75, \"gender\":\"female\"},\n",
    "  { \"name\": \"Riccardo\",\"age\":34, \"gender\":\"male\", \"phone\": 474612}\n",
    "]\n",
    "customers = mydb.customers.insert_many(customer_List)\n",
    "# print documents in a collection\n",
    "print(customers.inserted_ids)\n",
    "for document in mydb.customers.find().limit(5):\n",
    "  print(document)"
   ]
  },
  {
   "cell_type": "markdown",
   "metadata": {},
   "source": [
    "- Notice that the last document has this \"**phone**\" feild, even we didn't specify that for the other documents."
   ]
  },
  {
   "cell_type": "markdown",
   "metadata": {},
   "source": [
    "## READ (Querying our Data)"
   ]
  },
  {
   "cell_type": "markdown",
   "metadata": {},
   "source": [
    "- **find_one** method is just one in a series of find statements that support querying MongoDB data."
   ]
  },
  {
   "cell_type": "markdown",
   "metadata": {},
   "source": [
    "####  Get the first customer (document) in the customers collection"
   ]
  },
  {
   "cell_type": "code",
   "execution_count": 10,
   "metadata": {},
   "outputs": [
    {
     "name": "stdout",
     "output_type": "stream",
     "text": [
      "{'_id': ObjectId('68e66a6d721a60d40e0243d2'),\n",
      " 'age': 25,\n",
      " 'gender': 'female',\n",
      " 'name': 'Jane'}\n"
     ]
    }
   ],
   "source": [
    "first_customer= mydb.customers.find_one()\n",
    "pprint(first_customer)"
   ]
  },
  {
   "cell_type": "markdown",
   "metadata": {},
   "source": [
    "#### Find a specific document using find\n",
    "Typically, we use unique id if we want a specific document.\n",
    "\n",
    "- Find the customer with the name 'Jane'"
   ]
  },
  {
   "cell_type": "code",
   "execution_count": 11,
   "metadata": {},
   "outputs": [
    {
     "name": "stdout",
     "output_type": "stream",
     "text": [
      "{'_id': ObjectId('68e66a6d721a60d40e0243d2'), 'name': 'Jane', 'age': 25, 'gender': 'female'}\n"
     ]
    }
   ],
   "source": [
    "jane =mydb.customers.find_one({\"name\": \"Jane\"})\n",
    "print(jane)"
   ]
  },
  {
   "cell_type": "markdown",
   "metadata": {},
   "source": [
    "- **find method** : The find() method returns all occurrences in the selection.\n",
    "    - More precisely, it returns a **cursor** which can be used to iterate over the results.\n",
    "    - A cursor is an iterable and can be used to neatly access the query results.\n",
    "\n",
    "- **Notes**:\n",
    "    - The second parameter of the find() method is an object describing which fields to include in the result.\n",
    "\n",
    "    - This parameter is optional, and if omitted, all fields will be included in the result."
   ]
  },
  {
   "cell_type": "markdown",
   "metadata": {},
   "source": [
    "####  List all the customers (documents) in the customers collection"
   ]
  },
  {
   "cell_type": "code",
   "execution_count": 12,
   "metadata": {},
   "outputs": [
    {
     "name": "stdout",
     "output_type": "stream",
     "text": [
      "{'_id': ObjectId('68e66a6d721a60d40e0243d2'), 'name': 'Jane', 'age': 25, 'gender': 'female'}\n",
      "{'_id': ObjectId('68e66ae2721a60d40e0243d3'), 'name': 'Karim', 'age': 14, 'gender': 'male'}\n",
      "{'_id': ObjectId('68e66ae2721a60d40e0243d4'), 'name': 'Kate', 'age': 75, 'gender': 'female'}\n",
      "{'_id': ObjectId('68e66ae2721a60d40e0243d5'), 'name': 'Riccardo', 'age': 34, 'gender': 'male', 'phone': 474612}\n",
      "{'_id': ObjectId('68e66b19721a60d40e0243d8'), 'name': 'Riccardo', 'age': 34, 'gender': 'male', 'phone': 474612}\n",
      "{'_id': ObjectId('68e66b3a721a60d40e0243d9'), 'name': 'Karim', 'age': 14, 'gender': 'male'}\n",
      "{'_id': ObjectId('68e66b3a721a60d40e0243da'), 'name': 'Kate', 'age': 75, 'gender': 'female'}\n",
      "{'_id': ObjectId('68e66b3a721a60d40e0243db'), 'name': 'Riccardo', 'age': 34, 'gender': 'male', 'phone': 474612}\n",
      "{'_id': ObjectId('68e761b74c46bffe50ebeb4c'), 'name': 'Jane', 'age': 25, 'gender': 'female'}\n",
      "{'_id': ObjectId('68e761b74c46bffe50ebeb4d'), 'name': 'Karim', 'age': 14, 'gender': 'male'}\n",
      "{'_id': ObjectId('68e761b74c46bffe50ebeb4e'), 'name': 'Kate', 'age': 75, 'gender': 'female'}\n",
      "{'_id': ObjectId('68e761b74c46bffe50ebeb4f'), 'name': 'Riccardo', 'age': 34, 'gender': 'male', 'phone': 474612}\n"
     ]
    }
   ],
   "source": [
    "#corresponds to the SQL query \"SELECT * FROM customer_tbl\"\n",
    "allCustomers=mydb.customers.find({}) #we can ignore the empty '{}' doc.\n",
    "for customer in allCustomers:\n",
    "    print(customer)"
   ]
  },
  {
   "cell_type": "markdown",
   "metadata": {},
   "source": [
    "#### MongoDB Projections\n",
    "- Notes:\n",
    "    - The **_id** field (returned by default)\n",
    "    - Your projection **must** include only the fields you want to have. Not the one you don't want.\n",
    "    - Exception for **_id**, you can specify to not include it."
   ]
  },
  {
   "cell_type": "markdown",
   "metadata": {},
   "source": [
    "#### Get the name, age fields only of the customers"
   ]
  },
  {
   "cell_type": "code",
   "execution_count": 13,
   "metadata": {},
   "outputs": [
    {
     "name": "stdout",
     "output_type": "stream",
     "text": [
      "{'name': 'Jane', 'age': 25}\n",
      "{'name': 'Karim', 'age': 14}\n",
      "{'name': 'Kate', 'age': 75}\n",
      "{'name': 'Riccardo', 'age': 34}\n",
      "{'name': 'Riccardo', 'age': 34}\n"
     ]
    }
   ],
   "source": [
    "allCustomers=mydb.customers.find({}, {\"_id\": 0, \"name\": 1, \"age\": 1}).limit(5)\n",
    "for customer in allCustomers:\n",
    "    print(customer)"
   ]
  },
  {
   "cell_type": "markdown",
   "metadata": {},
   "source": [
    "#### Get the the customers with name 'Jane' or 'Kate'\n",
    "- Hint: use the **\"$or\"** operator"
   ]
  },
  {
   "cell_type": "code",
   "execution_count": 14,
   "metadata": {},
   "outputs": [
    {
     "name": "stdout",
     "output_type": "stream",
     "text": [
      "{'_id': ObjectId('68e66a6d721a60d40e0243d2'), 'name': 'Jane', 'age': 25, 'gender': 'female'}\n",
      "{'_id': ObjectId('68e66ae2721a60d40e0243d4'), 'name': 'Kate', 'age': 75, 'gender': 'female'}\n",
      "{'_id': ObjectId('68e66b3a721a60d40e0243da'), 'name': 'Kate', 'age': 75, 'gender': 'female'}\n",
      "{'_id': ObjectId('68e761b74c46bffe50ebeb4c'), 'name': 'Jane', 'age': 25, 'gender': 'female'}\n",
      "{'_id': ObjectId('68e761b74c46bffe50ebeb4e'), 'name': 'Kate', 'age': 75, 'gender': 'female'}\n"
     ]
    }
   ],
   "source": [
    "janeOrKate = mydb.customers.find(\n",
    "    {\"$or\": [{\"name\":\"Jane\"}, \n",
    "             {\"name\":\"Kate\"} \n",
    "            ] } )\n",
    "\n",
    "\n",
    "\n",
    "for customer in janeOrKate:\n",
    "    print(customer)"
   ]
  },
  {
   "cell_type": "markdown",
   "metadata": {},
   "source": [
    "- Similarly, we can use `$and`, `$not` , `$nor` operators to join or negate query clauses/conditions."
   ]
  },
  {
   "cell_type": "markdown",
   "metadata": {},
   "source": [
    "#### Get the the customers with name 'Jane' and age is 25"
   ]
  },
  {
   "cell_type": "code",
   "execution_count": 15,
   "metadata": {},
   "outputs": [
    {
     "name": "stdout",
     "output_type": "stream",
     "text": [
      "{'_id': ObjectId('68e66a6d721a60d40e0243d2'), 'name': 'Jane', 'age': 25, 'gender': 'female'}\n",
      "{'_id': ObjectId('68e761b74c46bffe50ebeb4c'), 'name': 'Jane', 'age': 25, 'gender': 'female'}\n"
     ]
    }
   ],
   "source": [
    "janeAnd25 = mydb.customers.find({\n",
    "    \"$and\": [{\"name\": \"Jane\"}, {\"age\": 25}]\n",
    "})\n",
    "\n",
    "for customer in janeAnd25:\n",
    "    print(customer)"
   ]
  },
  {
   "cell_type": "markdown",
   "metadata": {},
   "source": [
    "#### Find customers with age older than 16 \n",
    "- we use <code> \"$gt\"</code> paramater."
   ]
  },
  {
   "cell_type": "code",
   "execution_count": 16,
   "metadata": {},
   "outputs": [
    {
     "name": "stdout",
     "output_type": "stream",
     "text": [
      "Jane 25\n",
      "Kate 75\n",
      "Riccardo 34\n",
      "Riccardo 34\n",
      "Kate 75\n",
      "Riccardo 34\n",
      "Jane 25\n",
      "Kate 75\n",
      "Riccardo 34\n"
     ]
    }
   ],
   "source": [
    "adult_customers = mydb.customers.find({\n",
    "    \"age\": {\"$gte\": 16}\n",
    "})\n",
    "\n",
    "for customer in adult_customers:\n",
    "    print(customer[\"name\"],customer[\"age\"])"
   ]
  },
  {
   "cell_type": "markdown",
   "metadata": {},
   "source": [
    "- Obviously, we can also use `$lt (<)` </code>,  `$gt (>)`,  `$lte (<=)`,  `$gte (>=)`"
   ]
  },
  {
   "cell_type": "markdown",
   "metadata": {},
   "source": [
    "### Sorting the Results\n",
    "#### Get all Customers, sorted by age descending"
   ]
  },
  {
   "cell_type": "code",
   "execution_count": 17,
   "metadata": {},
   "outputs": [
    {
     "name": "stdout",
     "output_type": "stream",
     "text": [
      "{'_id': ObjectId('68e66ae2721a60d40e0243d4'), 'name': 'Kate', 'age': 75, 'gender': 'female'}\n",
      "{'_id': ObjectId('68e66b3a721a60d40e0243da'), 'name': 'Kate', 'age': 75, 'gender': 'female'}\n",
      "{'_id': ObjectId('68e761b74c46bffe50ebeb4e'), 'name': 'Kate', 'age': 75, 'gender': 'female'}\n",
      "{'_id': ObjectId('68e66ae2721a60d40e0243d5'), 'name': 'Riccardo', 'age': 34, 'gender': 'male', 'phone': 474612}\n",
      "{'_id': ObjectId('68e66b19721a60d40e0243d8'), 'name': 'Riccardo', 'age': 34, 'gender': 'male', 'phone': 474612}\n",
      "{'_id': ObjectId('68e66b3a721a60d40e0243db'), 'name': 'Riccardo', 'age': 34, 'gender': 'male', 'phone': 474612}\n",
      "{'_id': ObjectId('68e761b74c46bffe50ebeb4f'), 'name': 'Riccardo', 'age': 34, 'gender': 'male', 'phone': 474612}\n",
      "{'_id': ObjectId('68e66a6d721a60d40e0243d2'), 'name': 'Jane', 'age': 25, 'gender': 'female'}\n",
      "{'_id': ObjectId('68e761b74c46bffe50ebeb4c'), 'name': 'Jane', 'age': 25, 'gender': 'female'}\n",
      "{'_id': ObjectId('68e66ae2721a60d40e0243d3'), 'name': 'Karim', 'age': 14, 'gender': 'male'}\n",
      "{'_id': ObjectId('68e66b3a721a60d40e0243d9'), 'name': 'Karim', 'age': 14, 'gender': 'male'}\n",
      "{'_id': ObjectId('68e761b74c46bffe50ebeb4d'), 'name': 'Karim', 'age': 14, 'gender': 'male'}\n"
     ]
    }
   ],
   "source": [
    "customers_Sorted = mydb.customers.find().sort(\"age\", -1)\n",
    "for customer in customers_Sorted:\n",
    "    print(customer)"
   ]
  },
  {
   "cell_type": "markdown",
   "metadata": {},
   "source": [
    "* Clearly, in order to sort ascending, we would use 1 "
   ]
  },
  {
   "cell_type": "markdown",
   "metadata": {},
   "source": [
    "#### Get the count of the customers in your DB"
   ]
  },
  {
   "cell_type": "code",
   "execution_count": 18,
   "metadata": {},
   "outputs": [
    {
     "name": "stdout",
     "output_type": "stream",
     "text": [
      "12\n",
      "12\n"
     ]
    }
   ],
   "source": [
    "customer_count1 = mydb.customers.count_documents({})\n",
    "customer_count2 = list(mydb.customers.aggregate([\n",
    "    {\"$count\": \"total\"}\n",
    "]))[0][\"total\"]\n",
    "\n",
    "print(customer_count1)\n",
    "print(customer_count2)"
   ]
  },
  {
   "cell_type": "markdown",
   "metadata": {},
   "source": [
    "#### Get only the first 2 customers name and age in your DB sorted by the age ascending. "
   ]
  },
  {
   "cell_type": "code",
   "execution_count": 19,
   "metadata": {},
   "outputs": [
    {
     "name": "stdout",
     "output_type": "stream",
     "text": [
      "{'name': 'Karim', 'age': 14}\n",
      "{'name': 'Karim', 'age': 14}\n"
     ]
    }
   ],
   "source": [
    "two_customers= mydb.customers.find({}, {\"_id\":0,\n",
    "                                       \"name\":1,\n",
    "                                       \"age\":1}).limit(2).sort([(\"age\",1)])\n",
    "for customer in two_customers:\n",
    "    print(customer)"
   ]
  },
  {
   "cell_type": "markdown",
   "metadata": {},
   "source": [
    "### Aggregations\n",
    "\n",
    "#### For each gender, get the average of ages"
   ]
  },
  {
   "cell_type": "code",
   "execution_count": 20,
   "metadata": {},
   "outputs": [
    {
     "name": "stdout",
     "output_type": "stream",
     "text": [
      "{'_id': {'gender': 'female'}, 'average': 55.0}\n",
      "{'_id': {'gender': 'male'}, 'average': 25.428571428571427}\n"
     ]
    }
   ],
   "source": [
    "agg_result= mydb.customers.aggregate([\n",
    "    {  \"$group\": {\"_id\":{\"gender\": \"$gender\"},\n",
    "                  \"average\": {\"$avg\":\"$age\"} }}])\n",
    "for gen_Avg_age in agg_result:\n",
    "    print(gen_Avg_age)"
   ]
  },
  {
   "cell_type": "markdown",
   "metadata": {},
   "source": [
    "#### Get the count of customers for each gennder"
   ]
  },
  {
   "cell_type": "code",
   "execution_count": 21,
   "metadata": {},
   "outputs": [
    {
     "name": "stdout",
     "output_type": "stream",
     "text": [
      "{'_id': {'gender': 'female'}, 'total': 5}\n",
      "{'_id': {'gender': 'male'}, 'total': 7}\n"
     ]
    }
   ],
   "source": [
    "agg_result= mydb.customers.aggregate([\n",
    "    {\n",
    "        \"$group\": {\"_id\": {\"gender\": \"$gender\"}, \"total\": {\"$sum\": 1}}\n",
    "    }\n",
    "])\n",
    "for gen_count in agg_result:\n",
    "    print(gen_count)"
   ]
  },
  {
   "cell_type": "markdown",
   "metadata": {},
   "source": [
    "## Update\n",
    "\n",
    "- The update_one() method is used to modify an existing document.\n",
    "- A compound document is passed as the argument to update_one()\n",
    "\n",
    "     - The first part of which is used to match those documents to which the change is to be applied.\n",
    "     - If you want to update something that was not matched, nothing will be modified then! \n",
    "     - The second part gives the details of the change.\n",
    "\n",
    "- To update many documents we use update_many()"
   ]
  },
  {
   "cell_type": "markdown",
   "metadata": {},
   "source": [
    "#### Update the age of Kate to be 25 instead of 75"
   ]
  },
  {
   "cell_type": "code",
   "execution_count": 22,
   "metadata": {},
   "outputs": [
    {
     "name": "stdout",
     "output_type": "stream",
     "text": [
      "None\n",
      "None\n"
     ]
    }
   ],
   "source": [
    "kate =mydb.customer.find_one({\"name\":\"Kate\"}, {\"name\":1, \"age\":1, \"_id\":0}) \n",
    "print(kate)\n",
    "\n",
    "mydb.customer.update_one({\"name\":\"Kate\"},{\"$set\": {\"age\":25}  })\n",
    "\n",
    "kate =mydb.customer.find_one({\"name\":\"Kate\"}, {\"name\":1, \"age\":1, \"_id\":0}) \n",
    "print(kate)"
   ]
  },
  {
   "cell_type": "markdown",
   "metadata": {},
   "source": [
    "#### What will happen if we don't specify the $set operator?!"
   ]
  },
  {
   "cell_type": "code",
   "execution_count": 27,
   "metadata": {},
   "outputs": [
    {
     "name": "stdout",
     "output_type": "stream",
     "text": [
      "{'name': 'Kate', 'age': 75}\n",
      "{'name': 'Kate', 'age': 25}\n"
     ]
    }
   ],
   "source": [
    "kate =mydb.customers.find_one({\"name\":\"Kate\"}, {\"name\":1, \"age\":1, \"_id\":0}) \n",
    "print(kate)\n",
    "\n",
    "mydb.customers.update_one({\"name\":\"Kate\"},{\"$set\": {\"age\":25}})\n",
    "\n",
    "kate =mydb.customers.find_one({\"name\":\"Kate\"}, {\"name\":1, \"age\":1, \"_id\":0}) \n",
    "print(kate)"
   ]
  },
  {
   "cell_type": "markdown",
   "metadata": {},
   "source": [
    "- The example above uses the `$set` modifier.\n",
    "- There are a number of other modifiers available like `$inc`, `$mul`, `$rename` and `$unset`."
   ]
  },
  {
   "cell_type": "markdown",
   "metadata": {},
   "source": [
    "#### Remove the attribute \"gender\" from the customer \"Riccardo\""
   ]
  },
  {
   "cell_type": "code",
   "execution_count": 28,
   "metadata": {},
   "outputs": [
    {
     "name": "stdout",
     "output_type": "stream",
     "text": [
      "{'name': 'Riccardo', 'age': 34, 'gender': 'male', 'phone': 474612}\n",
      "{'name': 'Riccardo', 'age': 34, 'phone': 474612}\n"
     ]
    }
   ],
   "source": [
    "ricc =mydb.customers.find_one({\"name\":\"Riccardo\"}, {\"_id\":0}) \n",
    "print(ricc)\n",
    "\n",
    "mydb.customers.update_one({\"name\":\"Riccardo\"},{\"$unset\": {\"gender\":1}  })\n",
    "\n",
    "ricc =mydb.customers.find_one({\"name\":\"Riccardo\"}, {\"_id\":0}) \n",
    "print(ricc)"
   ]
  },
  {
   "cell_type": "markdown",
   "metadata": {},
   "source": [
    "#### Adding the \"address\" attribute to an existing document "
   ]
  },
  {
   "cell_type": "code",
   "execution_count": 29,
   "metadata": {},
   "outputs": [
    {
     "name": "stdout",
     "output_type": "stream",
     "text": [
      "{'name': 'Jane', 'age': 25, 'gender': 'female'}\n",
      "{'name': 'Jane', 'age': 25, 'gender': 'female', 'address': {'street': 'UUS 70', 'county': 'Tartu', 'country': 'Estonia'}}\n"
     ]
    }
   ],
   "source": [
    "jane =mydb.customers.find_one({\"name\":\"Jane\"}, {\"_id\":0}) \n",
    "print(jane)\n",
    "\n",
    "address= {\n",
    "    \"street\": \"UUS 70\",\n",
    "    \"county\":\"Tartu\",\n",
    "    \"country\":\"Estonia\"\n",
    "}\n",
    "mydb.customers.update_one({\"name\":\"Jane\"},\n",
    "                         {\"$set\": {\"address\" :address }}, \n",
    "                         upsert=True)\n",
    "\n",
    "jane =mydb.customers.find_one({\"name\":\"Jane\"}, {\"_id\":0}) \n",
    "print(jane)"
   ]
  },
  {
   "cell_type": "markdown",
   "metadata": {},
   "source": [
    "#### Update the address of \"Jane\" changing the street to be 'Narva 99'"
   ]
  },
  {
   "cell_type": "code",
   "execution_count": 31,
   "metadata": {},
   "outputs": [
    {
     "name": "stdout",
     "output_type": "stream",
     "text": [
      "{'name': 'Jane', 'age': 25, 'gender': 'female', 'address': {'street': 'UUS 70', 'county': 'Tartu', 'country': 'Estonia'}}\n",
      "{'name': 'Jane', 'age': 25, 'gender': 'female', 'address': {'street': 'Narva 99', 'county': 'Tartu', 'country': 'Estonia'}}\n"
     ]
    }
   ],
   "source": [
    "jane =mydb.customers.find_one({\"name\":\"Jane\"}, {\"_id\":0}) \n",
    "print(jane)\n",
    "\n",
    "\n",
    "mydb.customers.update_one(\n",
    "    {\"name\": \"Jane\", \"address\": {\"$exists\": True}},\n",
    "    {\"$set\": {\"address.street\": \"Narva 99\"}}\n",
    ")\n",
    "\n",
    "jane =mydb.customers.find_one({\"name\":\"Jane\"}, {\"_id\":0}) \n",
    "print(jane)"
   ]
  },
  {
   "cell_type": "markdown",
   "metadata": {},
   "source": [
    "## Delete"
   ]
  },
  {
   "cell_type": "markdown",
   "metadata": {},
   "source": [
    "- The functions delete_one(), and delete_many() are used to delete document(s) fromt MongoDB Collections."
   ]
  },
  {
   "cell_type": "markdown",
   "metadata": {},
   "source": [
    "#### Delete all the male customers from the DB!"
   ]
  },
  {
   "cell_type": "code",
   "execution_count": 32,
   "metadata": {},
   "outputs": [
    {
     "name": "stdout",
     "output_type": "stream",
     "text": [
      "\n",
      " //////////////////BEFORE//////\n",
      "{'_id': ObjectId('68e66a6d721a60d40e0243d2'), 'name': 'Jane', 'age': 25, 'gender': 'female', 'address': {'street': 'Narva 99', 'county': 'Tartu', 'country': 'Estonia'}}\n",
      "{'_id': ObjectId('68e66ae2721a60d40e0243d3'), 'name': 'Karim', 'age': 14, 'gender': 'male'}\n",
      "{'_id': ObjectId('68e66ae2721a60d40e0243d4'), 'name': 'Kate', 'age': 25, 'gender': 'female'}\n",
      "{'_id': ObjectId('68e66ae2721a60d40e0243d5'), 'name': 'Riccardo', 'age': 34, 'phone': 474612}\n",
      "{'_id': ObjectId('68e66b19721a60d40e0243d8'), 'name': 'Riccardo', 'age': 34, 'gender': 'male', 'phone': 474612}\n",
      "{'_id': ObjectId('68e66b3a721a60d40e0243d9'), 'name': 'Karim', 'age': 14, 'gender': 'male'}\n",
      "{'_id': ObjectId('68e66b3a721a60d40e0243da'), 'name': 'Kate', 'age': 75, 'gender': 'female'}\n",
      "{'_id': ObjectId('68e66b3a721a60d40e0243db'), 'name': 'Riccardo', 'age': 34, 'gender': 'male', 'phone': 474612}\n",
      "{'_id': ObjectId('68e761b74c46bffe50ebeb4c'), 'name': 'Jane', 'age': 25, 'gender': 'female'}\n",
      "{'_id': ObjectId('68e761b74c46bffe50ebeb4d'), 'name': 'Karim', 'age': 14, 'gender': 'male'}\n",
      "{'_id': ObjectId('68e761b74c46bffe50ebeb4e'), 'name': 'Kate', 'age': 75, 'gender': 'female'}\n",
      "{'_id': ObjectId('68e761b74c46bffe50ebeb4f'), 'name': 'Riccardo', 'age': 34, 'gender': 'male', 'phone': 474612}\n",
      "\n",
      " //////////////////AFTER//////\n",
      "{'_id': ObjectId('68e66a6d721a60d40e0243d2'), 'name': 'Jane', 'age': 25, 'gender': 'female', 'address': {'street': 'Narva 99', 'county': 'Tartu', 'country': 'Estonia'}}\n",
      "{'_id': ObjectId('68e66ae2721a60d40e0243d4'), 'name': 'Kate', 'age': 25, 'gender': 'female'}\n",
      "{'_id': ObjectId('68e66ae2721a60d40e0243d5'), 'name': 'Riccardo', 'age': 34, 'phone': 474612}\n",
      "{'_id': ObjectId('68e66b3a721a60d40e0243da'), 'name': 'Kate', 'age': 75, 'gender': 'female'}\n",
      "{'_id': ObjectId('68e761b74c46bffe50ebeb4c'), 'name': 'Jane', 'age': 25, 'gender': 'female'}\n",
      "{'_id': ObjectId('68e761b74c46bffe50ebeb4e'), 'name': 'Kate', 'age': 75, 'gender': 'female'}\n"
     ]
    }
   ],
   "source": [
    "print(\"\\n //////////////////BEFORE//////\")\n",
    "for cust in mydb.customers.find({}):\n",
    "    print(cust)\n",
    "mydb.customers.delete_many({\"gender\":\"male\"})\n",
    "\n",
    "print(\"\\n //////////////////AFTER//////\")\n",
    "\n",
    "for cust in mydb.customers.find({}):\n",
    "    print(cust)"
   ]
  },
  {
   "cell_type": "markdown",
   "metadata": {},
   "source": [
    "## THANK YOU"
   ]
  }
 ],
 "metadata": {
  "kernelspec": {
   "display_name": "Python 3",
   "language": "python",
   "name": "python3"
  },
  "language_info": {
   "codemirror_mode": {
    "name": "ipython",
    "version": 3
   },
   "file_extension": ".py",
   "mimetype": "text/x-python",
   "name": "python",
   "nbconvert_exporter": "python",
   "pygments_lexer": "ipython3",
   "version": "3.13.7"
  }
 },
 "nbformat": 4,
 "nbformat_minor": 4
}
