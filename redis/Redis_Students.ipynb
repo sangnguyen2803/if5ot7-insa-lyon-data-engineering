{
 "cells": [
  {
   "cell_type": "markdown",
   "metadata": {},
   "source": [
    "# Key-Value Stores (Redis)\n"
   ]
  },
  {
   "cell_type": "markdown",
   "metadata": {},
   "source": [
    "# Introduction:\n",
    "\n",
    "### Redis:\n",
    "   <a href=\"https://redis.io/\">Redis</a> Redis is an open source (BSD licensed), in-memory data structure store, used as a database, cache and message broker. It supports data structures such as strings, hashes, lists, sets, sorted sets with range queries, bitmaps, hyperloglogs, geospatial indexes with radius queries and streams.<br/>\n",
    "   \n",
    "<img src=\"https://www.zend.com/sites/zend/files/image/2019-09/logo-redis.jpg\" width =\"250\" >\n"
   ]
  },
  {
   "cell_type": "markdown",
   "metadata": {},
   "source": [
    "#### <a href='https://redislabs.com/redis-enterprise/data-structures/'>Redis Data Structures</a>\n",
    "* Redis is not a plain key-value store, it is actually a data structures server, supporting different kinds of values.\n",
    "* An introduction to Redis data types and abstractions https://redis.io/topics/data-types-intro\n",
    "* Redis keys are always strings.\n",
    "\n",
    "\n",
    "<img src='https://redislabs.com/wp-content/uploads/2020/06/key-value-data-stores-2-v2-920x612.png' width='500' >"
   ]
  },
  {
   "cell_type": "markdown",
   "metadata": {},
   "source": [
    "### How To Query Redis!\n",
    "\n",
    "- Commands for each data type for common access patterns, with bulk operations, and partial transaction support."
   ]
  },
  {
   "cell_type": "markdown",
   "metadata": {},
   "source": [
    "### PreLab\n",
    "\n",
    "#### 1. Install Redis on Windows\n",
    "- Redis is a cross-platform DB, We can install it on Linux, or Windows, ..etc.\n",
    "- There are two ways to install Redis under Windows\n",
    "    - Download the latest Redis .msi file from https://github.com/MSOpenTech/redis/r... and install it. \n",
    "    \n",
    "    - You can choose either from these sources\n",
    "        - https://github.com/microsoftarchive/redis/releases or\n",
    "        - https://github.com/rgl/redis/downloads\n",
    "\n",
    "- Personally I prepared the first option\n",
    "- Download Redis-x64-2.8.2104.zip\n",
    "- Extract the zip to the prepared directory\n",
    "- Run redis-server.exe\n",
    "- Run redis-cli.exe\n",
    "- For more info follow this setup-video tutorial (https://www.youtube.com/watch?v=188Fy-oCw4w)\n",
    "\n",
    "\n",
    "#### Linux and Debian \n",
    "\n",
    "- Even quicker and dirtier instructions for Debian-based Linux distributions are as follows:\n",
    "    - download Redis from http://redis.io/download \n",
    "    - extract, run make && sudo make install\n",
    "    - Then run sudo python -m easy_install redis hiredis (hiredis is an optional performance-improving C library).\n",
    "\n",
    "#### 2. Install the Python Package (\"<a href='https://pypi.org/project/redis/'>redis</a>\") to connecto to Redis \n",
    "- use th command ```pip install redis``` in your command line.\n",
    "\n",
    "\n",
    "#### (more) Accessing Redis from Command Line:\n",
    "- Add the Redis installation \"/home\" and \"/bin\" directories to the environment variables.\n",
    "- start Redis server in one command window(CMD, poweshell, ..etc)using the command ```redis-server```.\n",
    "- In another command window, start your Redis Client using the command ```redis-cli```\n",
    "- Now you have the Redis Client Shell connected to the default <b>db0</b> DB. "
   ]
  },
  {
   "cell_type": "code",
   "execution_count": 58,
   "metadata": {},
   "outputs": [
    {
     "name": "stdout",
     "output_type": "stream",
     "text": [
      "Requirement already satisfied: redis in c:\\program files\\python312\\lib\\site-packages (6.4.0)\n"
     ]
    }
   ],
   "source": [
    "! pip install redis"
   ]
  },
  {
   "cell_type": "code",
   "execution_count": 59,
   "metadata": {},
   "outputs": [],
   "source": [
    "import redis\n",
    "from pprint import pprint\n",
    "import pandas as pd\n",
    "from time import sleep\n",
    "\n",
    "import warnings\n",
    "warnings.filterwarnings('ignore')"
   ]
  },
  {
   "cell_type": "markdown",
   "metadata": {},
   "source": [
    "##### Get a client connection to redis server, using the url and the port, and Db"
   ]
  },
  {
   "cell_type": "code",
   "execution_count": 60,
   "metadata": {},
   "outputs": [],
   "source": [
    "r = redis.Redis(host='localhost', port=6379, db=0)"
   ]
  },
  {
   "cell_type": "markdown",
   "metadata": {},
   "source": [
    "## Task 0: First Steps in Redis"
   ]
  },
  {
   "cell_type": "markdown",
   "metadata": {},
   "source": [
    "### Demo the string keys"
   ]
  },
  {
   "cell_type": "code",
   "execution_count": 61,
   "metadata": {},
   "outputs": [
    {
     "data": {
      "text/plain": [
       "True"
      ]
     },
     "execution_count": 61,
     "metadata": {},
     "output_type": "execute_result"
    }
   ],
   "source": [
    "r.set('language','Python')"
   ]
  },
  {
   "cell_type": "markdown",
   "metadata": {},
   "source": [
    "##### Key expiration (e.g Think about Sessions management )\n",
    "\n",
    "\n",
    "- By default, keys are retained, but we can make our keys (data) vanish after a specified time.\n",
    "- This can be set while creating the key, or for already existing keys."
   ]
  },
  {
   "cell_type": "code",
   "execution_count": 62,
   "metadata": {},
   "outputs": [
    {
     "name": "stdout",
     "output_type": "stream",
     "text": [
      "True\n",
      "6\n",
      "3\n"
     ]
    }
   ],
   "source": [
    "## use expire(key,time in_secs), after this time key will vanish\n",
    "print(r.expire('language', 6))\n",
    "#ttl(key) time_to_live, checks remaining time to live! \n",
    "print(r.ttl('language'))\n",
    "sleep(3)\n",
    "print(r.ttl('language'))"
   ]
  },
  {
   "cell_type": "markdown",
   "metadata": {},
   "source": [
    "#### Check if the key already expired!\n",
    "- Use exists(key) function"
   ]
  },
  {
   "cell_type": "code",
   "execution_count": 63,
   "metadata": {},
   "outputs": [
    {
     "name": "stdout",
     "output_type": "stream",
     "text": [
      "Alive\n"
     ]
    }
   ],
   "source": [
    "r.set('books','roman')\n",
    "key_status = 'Alive' if r.exists('books') else 'Not alive'\n",
    "print(key_status)"
   ]
  },
  {
   "cell_type": "markdown",
   "metadata": {},
   "source": [
    "#### Setting multiple String Keys, values "
   ]
  },
  {
   "cell_type": "code",
   "execution_count": 64,
   "metadata": {},
   "outputs": [
    {
     "data": {
      "text/plain": [
       "True"
      ]
     },
     "execution_count": 64,
     "metadata": {},
     "output_type": "execute_result"
    }
   ],
   "source": [
    "r.mset({\"Croatia\": \"Zagreb\", \"Bahamas\": \"Nassau\"})"
   ]
  },
  {
   "cell_type": "markdown",
   "metadata": {},
   "source": [
    "#### Get the value of the key 'Croatia'"
   ]
  },
  {
   "cell_type": "code",
   "execution_count": 65,
   "metadata": {},
   "outputs": [
    {
     "data": {
      "text/plain": [
       "[b'Zagreb', b'Nassau']"
      ]
     },
     "execution_count": 65,
     "metadata": {},
     "output_type": "execute_result"
    }
   ],
   "source": [
    "r.get(\"Croatia\")\n",
    "r.mget([\"Croatia\", \"Bahamas\"])"
   ]
  },
  {
   "cell_type": "markdown",
   "metadata": {},
   "source": [
    "#### Set String as JSON value "
   ]
  },
  {
   "cell_type": "code",
   "execution_count": 66,
   "metadata": {},
   "outputs": [
    {
     "data": {
      "text/plain": [
       "True"
      ]
     },
     "execution_count": 66,
     "metadata": {},
     "output_type": "execute_result"
    }
   ],
   "source": [
    "r.set('myJsonData' , '{\"name\": \"Ragab\", \"age\": 40}')"
   ]
  },
  {
   "cell_type": "markdown",
   "metadata": {},
   "source": [
    "#### Get the previous JSON value"
   ]
  },
  {
   "cell_type": "code",
   "execution_count": 67,
   "metadata": {},
   "outputs": [
    {
     "data": {
      "text/plain": [
       "b'{\"name\": \"Ragab\", \"age\": 40}'"
      ]
     },
     "execution_count": 67,
     "metadata": {},
     "output_type": "execute_result"
    }
   ],
   "source": [
    "r.get('myJsonData')"
   ]
  },
  {
   "cell_type": "markdown",
   "metadata": {},
   "source": [
    "#### Rename the key 'myjsonData' into 'myJsonInfo'"
   ]
  },
  {
   "cell_type": "code",
   "execution_count": 68,
   "metadata": {},
   "outputs": [
    {
     "data": {
      "text/plain": [
       "True"
      ]
     },
     "execution_count": 68,
     "metadata": {},
     "output_type": "execute_result"
    }
   ],
   "source": [
    "r.rename('myJsonData', 'myJsonInfo')"
   ]
  },
  {
   "cell_type": "markdown",
   "metadata": {},
   "source": [
    "#### Delete 'myJsonInfo' key-value pair."
   ]
  },
  {
   "cell_type": "code",
   "execution_count": 69,
   "metadata": {},
   "outputs": [
    {
     "data": {
      "text/plain": [
       "1"
      ]
     },
     "execution_count": 69,
     "metadata": {},
     "output_type": "execute_result"
    }
   ],
   "source": [
    "r.delete('myJsonInfo')"
   ]
  },
  {
   "cell_type": "markdown",
   "metadata": {},
   "source": [
    "#### Check if it's deleted already !"
   ]
  },
  {
   "cell_type": "code",
   "execution_count": 70,
   "metadata": {},
   "outputs": [
    {
     "name": "stdout",
     "output_type": "stream",
     "text": [
      "None\n",
      "0\n"
     ]
    }
   ],
   "source": [
    "# we try to get the value of that key!\n",
    "print(r.get('myJsonInfo'))\n",
    "\n",
    "#or we can check if it's not existing any more !\n",
    "print(r.exists ('myJsonInfo'))"
   ]
  },
  {
   "cell_type": "markdown",
   "metadata": {},
   "source": [
    "### Demo The Lists\n",
    "\n",
    "- Think of Lists as ordered sequence of strings like java ArrayList, javasrcript array, or python n lists.\n",
    "- We can use lists to implement stacks and queues.\n",
    "    - If you need a **Queue**, just use **RPUSH** and **LPOP**.\n",
    "    - If you need a **Stack**, just use **RPUSH** and **RPOP**.\n",
    "- Lists can **accept duplicates**.\n",
    "- A single Resid List can hold over **4B** entries!!\n"
   ]
  },
  {
   "cell_type": "markdown",
   "metadata": {},
   "source": [
    "#### Create a List of customers, and add elements to it!"
   ]
  },
  {
   "cell_type": "code",
   "execution_count": 71,
   "metadata": {},
   "outputs": [
    {
     "data": {
      "text/plain": [
       "8"
      ]
     },
     "execution_count": 71,
     "metadata": {},
     "output_type": "execute_result"
    }
   ],
   "source": [
    "r.lpush('customers','Ragab')"
   ]
  },
  {
   "cell_type": "markdown",
   "metadata": {},
   "source": [
    "This will return \"1\" meaning the list now contains only one element"
   ]
  },
  {
   "cell_type": "code",
   "execution_count": 72,
   "metadata": {},
   "outputs": [
    {
     "data": {
      "text/plain": [
       "9"
      ]
     },
     "execution_count": 72,
     "metadata": {},
     "output_type": "execute_result"
    }
   ],
   "source": [
    "r.lpush('customers','Riccardo')"
   ]
  },
  {
   "cell_type": "code",
   "execution_count": 73,
   "metadata": {},
   "outputs": [
    {
     "data": {
      "text/plain": [
       "10"
      ]
     },
     "execution_count": 73,
     "metadata": {},
     "output_type": "execute_result"
    }
   ],
   "source": [
    "r.lpush('customers','Riccardo')"
   ]
  },
  {
   "cell_type": "markdown",
   "metadata": {},
   "source": [
    "#### Get current memebrs of the list\n",
    "- Hint: use <code>lrange</code> function"
   ]
  },
  {
   "cell_type": "code",
   "execution_count": 74,
   "metadata": {},
   "outputs": [
    {
     "data": {
      "text/plain": [
       "[b'Riccardo', b'Riccardo']"
      ]
     },
     "execution_count": 74,
     "metadata": {},
     "output_type": "execute_result"
    }
   ],
   "source": [
    "r.lrange('customers', 0, 1)"
   ]
  },
  {
   "cell_type": "markdown",
   "metadata": {},
   "source": [
    "* We can clearly notice that **LPUSH** function/command adds elements to the left of the list.\n",
    "* and that Lists also **accept duplicate** items."
   ]
  },
  {
   "cell_type": "markdown",
   "metadata": {},
   "source": [
    "#### Adding element to the Right of the customers list\n",
    "- Add customer 'Kim' to the right of the list\n",
    "- Use <code>rpush</code> function"
   ]
  },
  {
   "cell_type": "code",
   "execution_count": 75,
   "metadata": {},
   "outputs": [
    {
     "data": {
      "text/plain": [
       "11"
      ]
     },
     "execution_count": 75,
     "metadata": {},
     "output_type": "execute_result"
    }
   ],
   "source": [
    "r.rpush('customers', 'Kim')"
   ]
  },
  {
   "cell_type": "code",
   "execution_count": 76,
   "metadata": {},
   "outputs": [
    {
     "data": {
      "text/plain": [
       "[b'Riccardo',\n",
       " b'Riccardo',\n",
       " b'Ragab',\n",
       " b'Riccardo',\n",
       " b'Jan',\n",
       " b'Ragab',\n",
       " b'Riccardo',\n",
       " b'Riccardo',\n",
       " b'Ragab',\n",
       " b'Jan',\n",
       " b'Kim']"
      ]
     },
     "execution_count": 76,
     "metadata": {},
     "output_type": "execute_result"
    }
   ],
   "source": [
    "#check the list elements again\n",
    "r.lrange('customers',0,-1)"
   ]
  },
  {
   "cell_type": "markdown",
   "metadata": {},
   "source": [
    "#### Insert 'Jan' between Riccardo and Ragab"
   ]
  },
  {
   "cell_type": "code",
   "execution_count": 77,
   "metadata": {},
   "outputs": [
    {
     "data": {
      "text/plain": [
       "12"
      ]
     },
     "execution_count": 77,
     "metadata": {},
     "output_type": "execute_result"
    }
   ],
   "source": [
    "r.linsert('customers','BEFORE','Ragab','Jan')"
   ]
  },
  {
   "cell_type": "code",
   "execution_count": 78,
   "metadata": {},
   "outputs": [
    {
     "data": {
      "text/plain": [
       "[b'Riccardo',\n",
       " b'Riccardo',\n",
       " b'Jan',\n",
       " b'Ragab',\n",
       " b'Riccardo',\n",
       " b'Jan',\n",
       " b'Ragab',\n",
       " b'Riccardo',\n",
       " b'Riccardo',\n",
       " b'Ragab',\n",
       " b'Jan',\n",
       " b'Kim']"
      ]
     },
     "execution_count": 78,
     "metadata": {},
     "output_type": "execute_result"
    }
   ],
   "source": [
    "r.lrange('customers',0,-1)"
   ]
  },
  {
   "cell_type": "markdown",
   "metadata": {},
   "source": [
    "#### Get only the first element "
   ]
  },
  {
   "cell_type": "code",
   "execution_count": 79,
   "metadata": {},
   "outputs": [
    {
     "data": {
      "text/plain": [
       "b'Riccardo'"
      ]
     },
     "execution_count": 79,
     "metadata": {},
     "output_type": "execute_result"
    }
   ],
   "source": [
    "r.lrange('customers', 0, 0)[0]\n",
    "r.lindex('customers', 0)"
   ]
  },
  {
   "cell_type": "markdown",
   "metadata": {},
   "source": [
    "#### Get only the first 3 elements  "
   ]
  },
  {
   "cell_type": "code",
   "execution_count": 80,
   "metadata": {},
   "outputs": [
    {
     "data": {
      "text/plain": [
       "[b'Riccardo', b'Riccardo', b'Jan']"
      ]
     },
     "execution_count": 80,
     "metadata": {},
     "output_type": "execute_result"
    }
   ],
   "source": [
    "r.lrange('customers',0,2)"
   ]
  },
  {
   "cell_type": "markdown",
   "metadata": {},
   "source": [
    "#### Get the Length of the List\n",
    "- Use <code>llen</code> function"
   ]
  },
  {
   "cell_type": "code",
   "execution_count": 81,
   "metadata": {},
   "outputs": [
    {
     "data": {
      "text/plain": [
       "12"
      ]
     },
     "execution_count": 81,
     "metadata": {},
     "output_type": "execute_result"
    }
   ],
   "source": [
    "r.llen('customers')"
   ]
  },
  {
   "cell_type": "markdown",
   "metadata": {},
   "source": [
    "#### Delete the first element on the left"
   ]
  },
  {
   "cell_type": "code",
   "execution_count": 82,
   "metadata": {},
   "outputs": [
    {
     "data": {
      "text/plain": [
       "b'Riccardo'"
      ]
     },
     "execution_count": 82,
     "metadata": {},
     "output_type": "execute_result"
    }
   ],
   "source": [
    "r.lpop('customers')"
   ]
  },
  {
   "cell_type": "code",
   "execution_count": 83,
   "metadata": {},
   "outputs": [
    {
     "data": {
      "text/plain": [
       "[b'Riccardo',\n",
       " b'Jan',\n",
       " b'Ragab',\n",
       " b'Riccardo',\n",
       " b'Jan',\n",
       " b'Ragab',\n",
       " b'Riccardo',\n",
       " b'Riccardo',\n",
       " b'Ragab',\n",
       " b'Jan',\n",
       " b'Kim']"
      ]
     },
     "execution_count": 83,
     "metadata": {},
     "output_type": "execute_result"
    }
   ],
   "source": [
    "#check the list elements again\n",
    "r.lrange('customers',0,-1)"
   ]
  },
  {
   "cell_type": "markdown",
   "metadata": {},
   "source": [
    "#### Delete the first element on the right"
   ]
  },
  {
   "cell_type": "code",
   "execution_count": 84,
   "metadata": {},
   "outputs": [
    {
     "data": {
      "text/plain": [
       "b'Kim'"
      ]
     },
     "execution_count": 84,
     "metadata": {},
     "output_type": "execute_result"
    }
   ],
   "source": [
    "r.rpop('customers')"
   ]
  },
  {
   "cell_type": "code",
   "execution_count": 85,
   "metadata": {},
   "outputs": [
    {
     "data": {
      "text/plain": [
       "[b'Riccardo',\n",
       " b'Jan',\n",
       " b'Ragab',\n",
       " b'Riccardo',\n",
       " b'Jan',\n",
       " b'Ragab',\n",
       " b'Riccardo',\n",
       " b'Riccardo',\n",
       " b'Ragab',\n",
       " b'Jan']"
      ]
     },
     "execution_count": 85,
     "metadata": {},
     "output_type": "execute_result"
    }
   ],
   "source": [
    "#check the list elements again\n",
    "r.lrange('customers',0,-1)"
   ]
  },
  {
   "cell_type": "markdown",
   "metadata": {},
   "source": [
    "#### Notes on the performance of Lists:\n",
    "- **LPOP**, **LPUSH**, and **LLEN** commands are all **O(n)** cosnstant time operations. \n",
    "    - Their performance is independent of the lenght of the list.\n",
    "- **LRANGE** is **O(s+n)**, such that **s** is the distance of the start offest from the head, and **n** is the number of the elements in the specified range.\n",
    "    - Thus, we need to be careful with LRANGE especially with extra long lists, or when we retrieve thousands or more elements!!\n",
    "<img src='ListsPerformance.JPG' width= '200'>"
   ]
  },
  {
   "cell_type": "markdown",
   "metadata": {},
   "source": [
    "### Demo The Sets\n",
    "\n",
    "- **Unordered** collection of strings.\n",
    "- Contains **no duplicates**.\n",
    "    - This makes Sets supernatual option for **de-dupication** applications.\n",
    "- Questions that we can Answer using Sets:\n",
    "    - **Did I see this IP address in the last hour?**\n",
    "    - **Is this user online?**\n",
    "    - **Has this URL been balcklisted?**\n",
    "- All of these questions can be answered in **O(1)** time.\n",
    "- Sets support standard operations:\n",
    "    - **Intersection** \n",
    "    - **Difference**\n",
    "    - **Union**"
   ]
  },
  {
   "cell_type": "markdown",
   "metadata": {},
   "source": [
    "#### Create a Set of online players with the key \"players:online\" [\"Riccardo\", and \"Ragab\"]"
   ]
  },
  {
   "cell_type": "code",
   "execution_count": 86,
   "metadata": {},
   "outputs": [
    {
     "data": {
      "text/plain": [
       "1"
      ]
     },
     "execution_count": 86,
     "metadata": {},
     "output_type": "execute_result"
    }
   ],
   "source": [
    "r.sadd('players:online',\"Riccardo\",\"Ragab\")"
   ]
  },
  {
   "cell_type": "markdown",
   "metadata": {},
   "source": [
    "#### Try to another Online-player \"Ragab\" in the Set\n",
    "- Write down what did you noticed?!"
   ]
  },
  {
   "cell_type": "code",
   "execution_count": 87,
   "metadata": {},
   "outputs": [
    {
     "data": {
      "text/plain": [
       "0"
      ]
     },
     "execution_count": 87,
     "metadata": {},
     "output_type": "execute_result"
    }
   ],
   "source": [
    "r.sadd('players:online',\"Sang Nguyen\")"
   ]
  },
  {
   "cell_type": "markdown",
   "metadata": {},
   "source": [
    "#### Check if the Set of Online Players contain the player \"Riccardo\""
   ]
  },
  {
   "cell_type": "code",
   "execution_count": 88,
   "metadata": {},
   "outputs": [
    {
     "data": {
      "text/plain": [
       "1"
      ]
     },
     "execution_count": 88,
     "metadata": {},
     "output_type": "execute_result"
    }
   ],
   "source": [
    "r.sismember('players:online',\"Riccardo\")"
   ]
  },
  {
   "cell_type": "markdown",
   "metadata": {},
   "source": [
    "#### Check if the Set of Online Players contain the player \"Fabiano\""
   ]
  },
  {
   "cell_type": "code",
   "execution_count": 89,
   "metadata": {},
   "outputs": [
    {
     "data": {
      "text/plain": [
       "0"
      ]
     },
     "execution_count": 89,
     "metadata": {},
     "output_type": "execute_result"
    }
   ],
   "source": [
    "r.sismember('players:online',\"Fabiano\")"
   ]
  },
  {
   "cell_type": "markdown",
   "metadata": {},
   "source": [
    "#### Create Another Set with the key-name (\"Friends\") that has [\"Riccardo\", \"Fabiano\", \"Hassan\"]"
   ]
  },
  {
   "cell_type": "code",
   "execution_count": 90,
   "metadata": {},
   "outputs": [
    {
     "data": {
      "text/plain": [
       "1"
      ]
     },
     "execution_count": 90,
     "metadata": {},
     "output_type": "execute_result"
    }
   ],
   "source": [
    "r.sadd('friends', 'Riccardo', 'Fabiano', 'Hassan')"
   ]
  },
  {
   "cell_type": "markdown",
   "metadata": {},
   "source": [
    "#### Get the two lists memebers  "
   ]
  },
  {
   "cell_type": "code",
   "execution_count": 91,
   "metadata": {},
   "outputs": [
    {
     "name": "stdout",
     "output_type": "stream",
     "text": [
      "FirstSet: {b'Riccardo', b'Ragab', b'Sang Nguyen'}\n",
      "SecondSet: {b'Riccardo', b'Fabiano', b'Hassan'}\n"
     ]
    }
   ],
   "source": [
    "print (\"FirstSet:\" ,r.smembers('players:online'))\n",
    "print (\"SecondSet:\",r.smembers('friends'))"
   ]
  },
  {
   "cell_type": "markdown",
   "metadata": {},
   "source": [
    "#### Get the intersection of these two sets "
   ]
  },
  {
   "cell_type": "code",
   "execution_count": 92,
   "metadata": {},
   "outputs": [
    {
     "name": "stdout",
     "output_type": "stream",
     "text": [
      "{b'Riccardo'}\n"
     ]
    }
   ],
   "source": [
    "#Intersction\n",
    "print(r.sinter('players:online','friends'))"
   ]
  },
  {
   "cell_type": "markdown",
   "metadata": {},
   "source": [
    "#### Get the Union of these two sets "
   ]
  },
  {
   "cell_type": "code",
   "execution_count": 93,
   "metadata": {},
   "outputs": [
    {
     "name": "stdout",
     "output_type": "stream",
     "text": [
      "{b'Riccardo', b'Sang Nguyen', b'Hassan', b'Ragab', b'Fabiano'}\n"
     ]
    }
   ],
   "source": [
    "print(r.sunion('players:online', 'friends'))"
   ]
  },
  {
   "cell_type": "markdown",
   "metadata": {},
   "source": [
    "#### Get the Length of the two Sets "
   ]
  },
  {
   "cell_type": "code",
   "execution_count": 94,
   "metadata": {},
   "outputs": [
    {
     "name": "stdout",
     "output_type": "stream",
     "text": [
      "3\n",
      "3\n"
     ]
    }
   ],
   "source": [
    "#Length\n",
    "print(r.scard('friends'))\n",
    "print(r.scard('players:online'))"
   ]
  },
  {
   "cell_type": "markdown",
   "metadata": {},
   "source": [
    "#### Move \"Fabiano\" to the Online Players Set"
   ]
  },
  {
   "cell_type": "code",
   "execution_count": 95,
   "metadata": {},
   "outputs": [
    {
     "data": {
      "text/plain": [
       "True"
      ]
     },
     "execution_count": 95,
     "metadata": {},
     "output_type": "execute_result"
    }
   ],
   "source": [
    "r.smove('friends', 'players','Fabiano')"
   ]
  },
  {
   "cell_type": "markdown",
   "metadata": {},
   "source": [
    "#### Get the Length of the two Sets After this move!"
   ]
  },
  {
   "cell_type": "code",
   "execution_count": 98,
   "metadata": {},
   "outputs": [
    {
     "name": "stdout",
     "output_type": "stream",
     "text": [
      "2\n",
      "1\n"
     ]
    }
   ],
   "source": [
    "print(r.scard('friends'))\n",
    "print(r.scard('players'))"
   ]
  },
  {
   "cell_type": "markdown",
   "metadata": {},
   "source": [
    "#### Remove \"Ragab\" from the players Set, and show the palyers Set after this removal"
   ]
  },
  {
   "cell_type": "code",
   "execution_count": 40,
   "metadata": {},
   "outputs": [
    {
     "data": {
      "text/plain": [
       "{b'Riccardo', b'Sang Nguyen'}"
      ]
     },
     "execution_count": 40,
     "metadata": {},
     "output_type": "execute_result"
    }
   ],
   "source": [
    "r.srem('players:online',\"Ragab\")\n",
    "r.smembers('players:online')"
   ]
  },
  {
   "cell_type": "markdown",
   "metadata": {},
   "source": [
    "### Demo The SORTED SETS\n",
    "- REDIS sorted sets are **ordered** collections of unique members.\n",
    "- These memebrs are ordered according to their **asociated score**.\n",
    "- Whenever you add to the sorted set, you are specifying a **memeber** and a **score**.\n",
    "- Sorted Sets keep every thing sorted from the begininng.\n",
    "- Sorted sets are good choice for:\n",
    "    - **priority queues**\n",
    "    - **Low-latency leaderboards**\n",
    "    - **Secondary indexing**\n",
    "- Questions that we can Answer using Sorted Sets (e.g, in an online-game ):\n",
    "    - **Who are the top 10 players?\n",
    "    - **what is the rank of a specific Player?\n",
    "    - **what is the current score of the player?"
   ]
  },
  {
   "cell_type": "markdown",
   "metadata": {},
   "source": [
    "#### Let's Create our Leaderboard\n",
    "- In the scenario of online game, each player will have a score of '**experience**' achieving some tasks/goals,..etc."
   ]
  },
  {
   "cell_type": "markdown",
   "metadata": {},
   "source": [
    "#### Initially, Let's give a score of 0 experience to all of our players:\n",
    "- We have three Players (\"Ragab\", \"Fabianno\", and \"Riccardo\")"
   ]
  },
  {
   "cell_type": "code",
   "execution_count": 41,
   "metadata": {},
   "outputs": [
    {
     "data": {
      "text/plain": [
       "1"
      ]
     },
     "execution_count": 41,
     "metadata": {},
     "output_type": "execute_result"
    }
   ],
   "source": [
    "r.zadd('players:exp',{'Ragab':0})\n",
    "r.zadd('players:exp',{'Riccardo':0})\n",
    "r.zadd('players:exp',{'Fabiano':0})"
   ]
  },
  {
   "cell_type": "code",
   "execution_count": 102,
   "metadata": {},
   "outputs": [
    {
     "data": {
      "text/plain": [
       "[b'Ragab', b'Riccardo', b'Fabiano']"
      ]
     },
     "execution_count": 102,
     "metadata": {},
     "output_type": "execute_result"
    }
   ],
   "source": [
    "r.zrange('players:exp',0,2)"
   ]
  },
  {
   "cell_type": "markdown",
   "metadata": {},
   "source": [
    "#### Increment the experiernce score of our players\n",
    "Let's pretend that our players have copleted some missions and they got these experience points 40,60,80 for \"Ragab\", \"Riccardo\", and \"Fabiano\" respectively"
   ]
  },
  {
   "cell_type": "code",
   "execution_count": 42,
   "metadata": {},
   "outputs": [
    {
     "name": "stdout",
     "output_type": "stream",
     "text": [
      "40.0\n",
      "60.0\n",
      "80.0\n"
     ]
    }
   ],
   "source": [
    "print(r.zincrby('players:exp',40,'Ragab'))\n",
    "print(r.zincrby('players:exp',60,'Riccardo'))\n",
    "print(r.zincrby('players:exp',80,'Fabiano'))"
   ]
  },
  {
   "cell_type": "markdown",
   "metadata": {},
   "source": [
    "#### Let's Punish one of the players penalizing him with 5 points of experience"
   ]
  },
  {
   "cell_type": "code",
   "execution_count": 103,
   "metadata": {},
   "outputs": [
    {
     "name": "stdout",
     "output_type": "stream",
     "text": [
      "35.0\n"
     ]
    }
   ],
   "source": [
    "print(r.zincrby('players:exp',-5,'Ragab'))"
   ]
  },
  {
   "cell_type": "markdown",
   "metadata": {},
   "source": [
    "#### Get the Top 3 players in our game"
   ]
  },
  {
   "cell_type": "code",
   "execution_count": 104,
   "metadata": {},
   "outputs": [
    {
     "data": {
      "text/plain": [
       "[b'Fabiano', b'Riccardo', b'Ragab']"
      ]
     },
     "execution_count": 104,
     "metadata": {},
     "output_type": "execute_result"
    }
   ],
   "source": [
    "r.zrevrange('players:exp',0,2)"
   ]
  },
  {
   "cell_type": "markdown",
   "metadata": {},
   "source": [
    "#### GET the Top 3 players in our game showing their scores"
   ]
  },
  {
   "cell_type": "code",
   "execution_count": 111,
   "metadata": {},
   "outputs": [
    {
     "name": "stdout",
     "output_type": "stream",
     "text": [
      "1. Fabiano - 80.0 XP\n",
      "2. Riccardo - 60.0 XP\n",
      "3. Ragab - 35.0 XP\n"
     ]
    }
   ],
   "source": [
    "top3 = r.zrevrange('players:exp', 0, 2, withscores=True)\n",
    "for rank, (players, score) in enumerate(top3, start=1):\n",
    "    print(f'{rank}. {players.decode()} - {score:.1f} XP')"
   ]
  },
  {
   "cell_type": "markdown",
   "metadata": {},
   "source": [
    "#### Get the Ranak of the players \"Ragab\", and \"Fabiano\"\n",
    "- Look at the difference between **Zrank**, and **zrevrank**"
   ]
  },
  {
   "cell_type": "code",
   "execution_count": 46,
   "metadata": {},
   "outputs": [
    {
     "name": "stdout",
     "output_type": "stream",
     "text": [
      "2\n",
      "0\n"
     ]
    }
   ],
   "source": [
    "print(r.zrevrank('players:exp', 'Ragab'))\n",
    "print(r.zrevrank('players:exp', 'Fabiano'))"
   ]
  },
  {
   "cell_type": "markdown",
   "metadata": {},
   "source": [
    "#### Get the score of the player \"Riccardo\""
   ]
  },
  {
   "cell_type": "code",
   "execution_count": 112,
   "metadata": {},
   "outputs": [
    {
     "name": "stdout",
     "output_type": "stream",
     "text": [
      "60.0\n"
     ]
    }
   ],
   "source": [
    "print (r.zscore('players:exp', 'Riccardo'))"
   ]
  },
  {
   "cell_type": "markdown",
   "metadata": {},
   "source": [
    "### Demo the HASHES \n",
    "- Hashes are one of the most useful Redis data structures.\n",
    "- Hashes are collections of field-value pairs."
   ]
  },
  {
   "cell_type": "markdown",
   "metadata": {},
   "source": [
    "#### Let's Create a Hash of Players in an online game"
   ]
  },
  {
   "cell_type": "markdown",
   "metadata": {},
   "source": [
    "- Each player has the following fields:\n",
    "    - NAME\n",
    "    - RACE\n",
    "    - LEVEL\n",
    "    - HEALTH\n",
    "    - GOLD"
   ]
  },
  {
   "cell_type": "markdown",
   "metadata": {},
   "source": [
    "#### Let's Create our first player ('player:101')"
   ]
  },
  {
   "cell_type": "code",
   "execution_count": 48,
   "metadata": {},
   "outputs": [
    {
     "data": {
      "text/plain": [
       "1"
      ]
     },
     "execution_count": 48,
     "metadata": {},
     "output_type": "execute_result"
    }
   ],
   "source": [
    "r.hset('player:101','name','Cyclops')\n",
    "r.hset('player:101','race','Elf')\n",
    "r.hset('player:101','level',4)\n",
    "r.hset('player:101','health',20)\n",
    "r.hset('player:101','gold',500)"
   ]
  },
  {
   "cell_type": "markdown",
   "metadata": {},
   "source": [
    "#### Adding another player (player:102)\n",
    "- We can use <code>HMSET</code> value pairs to the Hash."
   ]
  },
  {
   "cell_type": "code",
   "execution_count": 113,
   "metadata": {},
   "outputs": [
    {
     "data": {
      "text/plain": [
       "True"
      ]
     },
     "execution_count": 113,
     "metadata": {},
     "output_type": "execute_result"
    }
   ],
   "source": [
    "player2 = {\"name\":\"Wolverine\", \n",
    " \"race\":\"Elf\", \n",
    " \"level\":6, \n",
    " \"health\":200, \n",
    " \"gold\":4000}\n",
    "#We use HMSET for ading multi-field value pairs to the Hash\n",
    "r.hmset('player:102', player2)"
   ]
  },
  {
   "cell_type": "markdown",
   "metadata": {},
   "source": [
    "#### Get the information of the player Hashes ('player:101', 'player:102' )"
   ]
  },
  {
   "cell_type": "code",
   "execution_count": 50,
   "metadata": {},
   "outputs": [
    {
     "name": "stdout",
     "output_type": "stream",
     "text": [
      "{b'gold': b'500',\n",
      " b'health': b'20',\n",
      " b'level': b'4',\n",
      " b'name': b'Cyclops',\n",
      " b'race': b'Elf'}\n",
      "\n",
      "\n",
      "{b'gold': b'4000',\n",
      " b'health': b'200',\n",
      " b'level': b'6',\n",
      " b'name': b'Wolverine',\n",
      " b'race': b'Elf'}\n"
     ]
    }
   ],
   "source": [
    "pprint(r.hgetall('player:101'))\n",
    "print(\"\\n\")\n",
    "pprint(r.hgetall('player:102'))"
   ]
  },
  {
   "cell_type": "markdown",
   "metadata": {},
   "source": [
    "#### Get the **name** of the second player\n",
    "- Use <code>hget(Hash_key,field)</code>"
   ]
  },
  {
   "cell_type": "code",
   "execution_count": 114,
   "metadata": {},
   "outputs": [
    {
     "data": {
      "text/plain": [
       "b'4000'"
      ]
     },
     "execution_count": 114,
     "metadata": {},
     "output_type": "execute_result"
    }
   ],
   "source": [
    "r.hget('player:102', 'gold')"
   ]
  },
  {
   "cell_type": "markdown",
   "metadata": {},
   "source": [
    "#### Get the name, level and the race of the second player\n",
    "- Use <code>hmget(Hash_key,field1,field2,..)</code>"
   ]
  },
  {
   "cell_type": "code",
   "execution_count": 116,
   "metadata": {},
   "outputs": [
    {
     "data": {
      "text/plain": [
       "[b'200', b'6', b'Wolverine']"
      ]
     },
     "execution_count": 116,
     "metadata": {},
     "output_type": "execute_result"
    }
   ],
   "source": [
    "r.hmget('player:102','health', 'level', 'name')"
   ]
  },
  {
   "cell_type": "markdown",
   "metadata": {},
   "source": [
    "#### updating the Hash with adding a new field\n",
    "- For player ('player:101'), add the **status** as '**Killed**' "
   ]
  },
  {
   "cell_type": "code",
   "execution_count": 117,
   "metadata": {},
   "outputs": [
    {
     "data": {
      "text/plain": [
       "1"
      ]
     },
     "execution_count": 117,
     "metadata": {},
     "output_type": "execute_result"
    }
   ],
   "source": [
    "r.hset('player:101', 'status', 'Killed')"
   ]
  },
  {
   "cell_type": "markdown",
   "metadata": {},
   "source": [
    "#### Check if added field 'status' to the first player ('player:101')"
   ]
  },
  {
   "cell_type": "code",
   "execution_count": 118,
   "metadata": {},
   "outputs": [
    {
     "name": "stdout",
     "output_type": "stream",
     "text": [
      "{b'gold': b'500',\n",
      " b'health': b'20',\n",
      " b'level': b'4',\n",
      " b'name': b'Cyclops',\n",
      " b'race': b'Elf',\n",
      " b'status': b'Killed'}\n"
     ]
    }
   ],
   "source": [
    "pprint(r.hgetall('player:101'))"
   ]
  },
  {
   "cell_type": "markdown",
   "metadata": {},
   "source": [
    "#### updating the Hash with deleting the  'status' field for 'player:101'"
   ]
  },
  {
   "cell_type": "code",
   "execution_count": 119,
   "metadata": {},
   "outputs": [
    {
     "data": {
      "text/plain": [
       "1"
      ]
     },
     "execution_count": 119,
     "metadata": {},
     "output_type": "execute_result"
    }
   ],
   "source": [
    "r.hdel('player:101','status')"
   ]
  },
  {
   "cell_type": "markdown",
   "metadata": {},
   "source": [
    "#### Check if the  field 'status' is deleted from the first player ('player:101')"
   ]
  },
  {
   "cell_type": "code",
   "execution_count": 120,
   "metadata": {},
   "outputs": [
    {
     "name": "stdout",
     "output_type": "stream",
     "text": [
      "{b'gold': b'500',\n",
      " b'health': b'20',\n",
      " b'level': b'4',\n",
      " b'name': b'Cyclops',\n",
      " b'race': b'Elf'}\n"
     ]
    }
   ],
   "source": [
    "pprint(r.hgetall('player:101'))"
   ]
  },
  {
   "cell_type": "markdown",
   "metadata": {},
   "source": [
    "#### In such games, players recieve gold points, after completing objectives, or defeating enemies.\n",
    "- Let's add some gold points to player:102 \"Wolverine\", Increase him by 25 points. "
   ]
  },
  {
   "cell_type": "code",
   "execution_count": 57,
   "metadata": {},
   "outputs": [
    {
     "name": "stdout",
     "output_type": "stream",
     "text": [
      "Gold Before: \n",
      "b'4000'\n",
      "\n",
      "After: \n",
      "b'4025'\n"
     ]
    }
   ],
   "source": [
    "print(\"Gold Before: \")\n",
    "pprint(r.hget('player:102', 'gold'))\n",
    "\n",
    "r.hincrby('player:102', 'gold', 25)\n",
    "\n",
    "print(\"\\nAfter: \")\n",
    "pprint(r.hget('player:102', 'gold'))"
   ]
  },
  {
   "cell_type": "markdown",
   "metadata": {},
   "source": [
    "**Notes on incrementing & decrementing Hash values:** \n",
    "- HINCRBY still operates on a hash value that is a string, but it tries to interpret the string as a **base-10 64-bit signed integer** to execute the operation.\n",
    "\n",
    "- This applies to other commands related to incrementing and decrementing other data structures, namely **INCR**, **INCRBY**, **INCRBYFLOAT**, **ZINCRBY**, and **HINCRBYFLOAT**.\n",
    "\n",
    "- You’ll get an error if the string at the value can’t be represented as an integer.\n"
   ]
  },
  {
   "cell_type": "markdown",
   "metadata": {},
   "source": [
    "#### Notes on the performance of Redis Hashes:\n",
    "- HGET, HSET, HINCRBY, HDEL are O(1) constant time opeations regardless of the size of the Hash.\n",
    "- Whreas, HGETALL is O(n),with n being the number of fields in the Hash.\n",
    "    - In Big Hashes of Thousands of fields, it's usually more effiecient to specify the fields you want, rather than retreiving all of the fields.\n",
    "    \n",
    "<img src='HashPerformance.JPG' width= '200'>"
   ]
  }
 ],
 "metadata": {
  "kernelspec": {
   "display_name": "Python 3",
   "language": "python",
   "name": "python3"
  },
  "language_info": {
   "codemirror_mode": {
    "name": "ipython",
    "version": 3
   },
   "file_extension": ".py",
   "mimetype": "text/x-python",
   "name": "python",
   "nbconvert_exporter": "python",
   "pygments_lexer": "ipython3",
   "version": "3.12.0"
  }
 },
 "nbformat": 4,
 "nbformat_minor": 4
}
